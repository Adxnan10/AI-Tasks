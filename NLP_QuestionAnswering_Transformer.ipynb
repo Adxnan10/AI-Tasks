{
  "nbformat": 4,
  "nbformat_minor": 0,
  "metadata": {
    "colab": {
      "provenance": [],
      "gpuType": "T4"
    },
    "kernelspec": {
      "name": "python3",
      "display_name": "Python 3"
    },
    "language_info": {
      "name": "python"
    },
    "accelerator": "GPU"
  },
  "cells": [
    {
      "cell_type": "markdown",
      "source": [
        "In this Homework, you will make a question answering bot using using Transformers.\n",
        "\n",
        "TODO:\n",
        "1. Tokenize the data and create a vocabulary using [sentencepiece](https://github.com/google/sentencepiece/blob/master/python/README.md). Set `vocab_size=1000, pad_id=0, unk_id=1, bos_id=2, eos_id=3`. After making the tokenization model encode your data and don't forget to add <sos\\> and <eos\\>.\n",
        "2. Pad your source and target data.\n",
        "3. Split the data into 80:20 train and test set.\n",
        "4. Create and train your own encorder-decoder transformer architecture using pytorch/tensorflow.\n",
        "6. Evaluate your models on test data and calculate the [bleu score](https://machinelearningmastery.com/calculate-bleu-score-for-text-python/).\n",
        "7. Show some example questions, true answers and generated answers from the test data.\n",
        "8. Ask it some questions of your own and show how how it answers.\n"
      ],
      "metadata": {
        "id": "o0YjgUzILAeu"
      }
    },
    {
      "cell_type": "code",
      "source": [
        "!wget https://qnamakerstore.blob.core.windows.net/qnamakerdata/editorial/english/qna_chitchat_professional.tsv"
      ],
      "metadata": {
        "id": "OyzCpNcYtbzD",
        "colab": {
          "base_uri": "https://localhost:8080/"
        },
        "outputId": "30eb1edc-8c4f-4ad2-d7b7-15e84af200e1"
      },
      "execution_count": 186,
      "outputs": [
        {
          "output_type": "stream",
          "name": "stdout",
          "text": [
            "--2024-08-02 10:20:46--  https://qnamakerstore.blob.core.windows.net/qnamakerdata/editorial/english/qna_chitchat_professional.tsv\n",
            "Resolving qnamakerstore.blob.core.windows.net (qnamakerstore.blob.core.windows.net)... 20.60.81.165\n",
            "Connecting to qnamakerstore.blob.core.windows.net (qnamakerstore.blob.core.windows.net)|20.60.81.165|:443... connected.\n",
            "HTTP request sent, awaiting response... 200 OK\n",
            "Length: 981694 (959K) [text/plain]\n",
            "Saving to: ‘qna_chitchat_professional.tsv.4’\n",
            "\n",
            "qna_chitchat_profes 100%[===================>] 958.69K  4.73MB/s    in 0.2s    \n",
            "\n",
            "2024-08-02 10:20:46 (4.73 MB/s) - ‘qna_chitchat_professional.tsv.4’ saved [981694/981694]\n",
            "\n"
          ]
        }
      ]
    },
    {
      "cell_type": "code",
      "source": [
        "import pandas as pd\n",
        "pd.read_csv(\"qna_chitchat_professional.tsv\", sep=\"\\t\")[[\"Question\", \"Answer\"]].to_csv(\"qna_chitchat_professional.tsv\", index=False, sep=\"\\t\")"
      ],
      "metadata": {
        "id": "VByO9qANtdjz"
      },
      "execution_count": 187,
      "outputs": []
    },
    {
      "cell_type": "code",
      "source": [
        "from IPython.display import clear_output, display\n",
        "import os\n",
        "import math\n",
        "import random\n",
        "import torch\n",
        "\n",
        "\n",
        "from nltk.translate.bleu_score import corpus_bleu\n",
        "import torch.nn as nn\n",
        "import torch.nn.functional as F\n",
        "import torch.optim as optim\n",
        "import torchvision.transforms as transforms\n",
        "import torchvision.models as models\n",
        "from torch.utils.data import DataLoader, Dataset, TensorDataset\n",
        "from torchvision.datasets import CocoCaptions\n",
        "import matplotlib.pyplot as plt\n",
        "from tqdm import tqdm\n",
        "import sentencepiece\n",
        "import csv\n",
        "from sklearn.model_selection import train_test_split\n",
        "clear_output()\n"
      ],
      "metadata": {
        "id": "9sttCqZQlMsj"
      },
      "execution_count": 188,
      "outputs": []
    },
    {
      "cell_type": "markdown",
      "source": [
        "## 1-Tokenization\n",
        "Tokenize the data and create a vocabulary using sentencepiece. Set vocab_size=1000, pad_id=0, unk_id=1, bos_id=2, eos_id=3. After making the tokenization model encode your data and don't forget to add <sos> and <eos>."
      ],
      "metadata": {
        "id": "TzDW0BF1iDMo"
      }
    },
    {
      "cell_type": "code",
      "source": [
        "sentencepiece.SentencePieceTrainer.train(\n",
        "  input=\"qna_chitchat_professional.tsv\",\n",
        "  model_prefix=\"myspm_model\",\n",
        "  vocab_size=1000,\n",
        "  pad_id=0,\n",
        "  unk_id=1,\n",
        "  bos_id=2,\n",
        "  eos_id=3,\n",
        "  pad_piece='<pad>',\n",
        "  unk_piece='<unk>',\n",
        "  bos_piece='<sos>',\n",
        "  eos_piece='<eos>'\n",
        ")"
      ],
      "metadata": {
        "id": "rYz8qSMQBlbC"
      },
      "execution_count": 189,
      "outputs": []
    },
    {
      "cell_type": "code",
      "source": [
        "spm = sentencepiece.SentencePieceProcessor(model_file=\"myspm_model.model\")\n",
        "vocab = [spm.id_to_piece(i) for i in range(spm.get_piece_size())]\n",
        "print(\"Vocabulary sample:\")\n",
        "print(vocab[:10])"
      ],
      "metadata": {
        "id": "QSQbagrK-HdE",
        "colab": {
          "base_uri": "https://localhost:8080/"
        },
        "outputId": "a40abddd-53a7-45c0-d5de-d917e8cc1e99"
      },
      "execution_count": 190,
      "outputs": [
        {
          "output_type": "stream",
          "name": "stdout",
          "text": [
            "Vocabulary sample:\n",
            "['<pad>', '<unk>', '<sos>', '<eos>', '.', '▁I', \"'\", '▁you', 's', '▁to']\n"
          ]
        }
      ]
    },
    {
      "cell_type": "code",
      "source": [
        "encoded_questions = []\n",
        "encoded_answers = []\n",
        "\n",
        "with open(\"qna_chitchat_professional.tsv\", 'r', encoding='utf-8') as f:\n",
        "    reader = csv.reader(f, delimiter='\\t')\n",
        "    next(reader)\n",
        "    for row in reader:\n",
        "        question = spm.encode_as_ids(row[0])\n",
        "        answer = spm.encode_as_ids(row[1])\n",
        "        question = [spm.bos_id()] + question + [spm.eos_id()]\n",
        "        answer = [spm.bos_id()] + answer + [spm.eos_id()]\n",
        "        encoded_questions.append(question)\n",
        "        encoded_answers.append(answer)\n",
        "\n",
        "print(encoded_questions[0])\n",
        "print(encoded_answers[0])"
      ],
      "metadata": {
        "id": "UkXUrWvyCm90",
        "colab": {
          "base_uri": "https://localhost:8080/"
        },
        "outputId": "6a4df68b-14d7-4197-9a00-ffc650d07130"
      },
      "execution_count": 191,
      "outputs": [
        {
          "output_type": "stream",
          "name": "stdout",
          "text": [
            "[2, 40, 7, 63, 529, 12, 3]\n",
            "[2, 5, 18, 6, 10, 17, 14, 290, 4, 3]\n"
          ]
        }
      ]
    },
    {
      "cell_type": "markdown",
      "source": [
        "## 2-Padding\n",
        "Pad your source and target data."
      ],
      "metadata": {
        "id": "zvXHqh0IiNr5"
      }
    },
    {
      "cell_type": "code",
      "source": [
        "max_q_length = max(len(q) for q in encoded_questions)\n",
        "max_a_length = max(len(a) for a in encoded_answers)\n",
        "questions_lengths = [len(q) for q in encoded_questions]\n",
        "padded_questions = [q + [spm.pad_id()] * (max_q_length - len(q)) for q in encoded_questions]\n",
        "padded_answers = [a + [spm.pad_id()] * (max_a_length - len(a)) for a in encoded_answers]\n",
        "print(max_q_length, max_a_length) # reasonable lengths\n",
        "print(padded_questions[0])\n",
        "print(questions_lengths[0])\n",
        "print(padded_answers[0])"
      ],
      "metadata": {
        "id": "hbWyr97aj8Hm",
        "colab": {
          "base_uri": "https://localhost:8080/"
        },
        "outputId": "8ba73b2e-0602-4955-ff67-955a63d4861e"
      },
      "execution_count": 192,
      "outputs": [
        {
          "output_type": "stream",
          "name": "stdout",
          "text": [
            "26 46\n",
            "[2, 40, 7, 63, 529, 12, 3, 0, 0, 0, 0, 0, 0, 0, 0, 0, 0, 0, 0, 0, 0, 0, 0, 0, 0, 0]\n",
            "7\n",
            "[2, 5, 18, 6, 10, 17, 14, 290, 4, 3, 0, 0, 0, 0, 0, 0, 0, 0, 0, 0, 0, 0, 0, 0, 0, 0, 0, 0, 0, 0, 0, 0, 0, 0, 0, 0, 0, 0, 0, 0, 0, 0, 0, 0, 0, 0]\n"
          ]
        }
      ]
    },
    {
      "cell_type": "markdown",
      "source": [
        "## 3-Data split\n",
        "Split the data into 80:20 train and test set.\n"
      ],
      "metadata": {
        "id": "rJCcDFpOiR9b"
      }
    },
    {
      "cell_type": "code",
      "source": [
        "questions_tensor = torch.tensor(padded_questions, dtype=torch.long)\n",
        "questions_lengths_tensor = torch.tensor(questions_lengths, dtype=torch.long)\n",
        "answers_tensor = torch.tensor(padded_answers, dtype=torch.long)\n",
        "# print(questions_lengths_tensor)\n",
        "train_val_questions, test_questions, train_val_answers, test_answers, train_val_lengths, test_lengths = train_test_split(\n",
        "    questions_tensor, answers_tensor, questions_lengths_tensor, test_size=0.2\n",
        ")\n",
        "\n",
        "train_questions, val_questions, train_answers, val_answers, train_lengths, val_lengths = train_test_split(\n",
        "    train_val_questions, train_val_answers, train_val_lengths, test_size=0.1\n",
        ")\n",
        "\n",
        "class CustomDataset(Dataset):\n",
        "    def __init__(self, questions, lengths, answers):\n",
        "        self.questions = questions\n",
        "        self.lengths = lengths\n",
        "        self.answers = answers\n",
        "\n",
        "    def __len__(self):\n",
        "        return len(self.questions)\n",
        "\n",
        "    def __getitem__(self, idx):\n",
        "        question = self.questions[idx]\n",
        "        # length = self.lengths[idx]\n",
        "        answer = self.answers[idx]\n",
        "        # question_mask = (question != spm.pad_id())\n",
        "\n",
        "        # answer_pad_mask = (answer != spm.pad_id())\n",
        "        # answer_mask = answer_pad_mask.unsqueeze(0)&self.causal_mask(answer.size(0))\n",
        "\n",
        "\n",
        "        return question, answer\n",
        "\n",
        "    @staticmethod\n",
        "    def causal_mask(size):\n",
        "        mask = torch.triu(torch.ones((size, size)), diagonal=1)\n",
        "        return mask == 0\n",
        "\n",
        "train_dataset = CustomDataset(train_questions, train_lengths, train_answers)\n",
        "val_dataset = CustomDataset(val_questions, val_lengths, val_answers)\n",
        "test_dataset = CustomDataset(test_questions, test_lengths, test_answers)\n",
        "\n",
        "batch_size = 128\n",
        "train_dataloader = DataLoader(train_dataset, batch_size=batch_size, shuffle=True, drop_last=True)\n",
        "val_dataloader = DataLoader(val_dataset, batch_size=batch_size)\n",
        "test_dataloader = DataLoader(test_dataset, batch_size=batch_size)"
      ],
      "metadata": {
        "id": "tO1dFK1RCnzY"
      },
      "execution_count": 193,
      "outputs": []
    },
    {
      "cell_type": "code",
      "source": [
        "len(train_dataloader.dataset), len(val_dataloader.dataset), len(test_dataloader.dataset)"
      ],
      "metadata": {
        "colab": {
          "base_uri": "https://localhost:8080/"
        },
        "id": "LjKp6X9BFHSI",
        "outputId": "23584fc6-8d8b-4071-e7ed-b80bc00de4eb"
      },
      "execution_count": 194,
      "outputs": [
        {
          "output_type": "execute_result",
          "data": {
            "text/plain": [
              "(7050, 784, 1959)"
            ]
          },
          "metadata": {},
          "execution_count": 194
        }
      ]
    },
    {
      "cell_type": "code",
      "source": [
        "train_dataset[0]"
      ],
      "metadata": {
        "colab": {
          "base_uri": "https://localhost:8080/"
        },
        "id": "WGkdC-EHYLad",
        "outputId": "932e98e9-bae3-42a0-dfe5-bc7374ffe278"
      },
      "execution_count": 195,
      "outputs": [
        {
          "output_type": "execute_result",
          "data": {
            "text/plain": [
              "(tensor([  2,   5,   8, 212, 482,   9,  93,  81,  16,  12,   3,   0,   0,   0,\n",
              "           0,   0,   0,   0,   0,   0,   0,   0,   0,   0,   0,   0]),\n",
              " tensor([ 2,  5,  6, 11, 52, 53,  8, 39,  9, 93,  4,  3,  0,  0,  0,  0,  0,  0,\n",
              "          0,  0,  0,  0,  0,  0,  0,  0,  0,  0,  0,  0,  0,  0,  0,  0,  0,  0,\n",
              "          0,  0,  0,  0,  0,  0,  0,  0,  0,  0]))"
            ]
          },
          "metadata": {},
          "execution_count": 195
        }
      ]
    },
    {
      "cell_type": "markdown",
      "source": [
        "## 4-Model\n",
        "4. Create and train your own encorder-decoder transformer architecture using pytorch/tensorflow."
      ],
      "metadata": {
        "id": "HHwNvNKgQ_j0"
      }
    },
    {
      "cell_type": "markdown",
      "source": [
        "### Model Archeticture\n",
        "<i>I am going to implement the components shown in this figure: </i>\n",
        "![transformer.webp](data:image/webp;base64,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)"
      ],
      "metadata": {
        "id": "yppj37PzwheQ"
      }
    },
    {
      "cell_type": "code",
      "source": [
        "class PositionalEncoding(nn.Module):\n",
        "    def __init__(self, embedding_dim, max_len=5000):\n",
        "        super(PositionalEncoding, self).__init__()\n",
        "        pe = torch.zeros(max_len, embedding_dim)\n",
        "        position = torch.arange(0, max_len, dtype=torch.float).unsqueeze(1)\n",
        "        div_term = torch.exp(torch.arange(0, embedding_dim, 2).float() * (-math.log(10000.0) / embedding_dim))\n",
        "        pe[:, 0::2] = torch.sin(position * div_term)\n",
        "        pe[:, 1::2] = torch.cos(position * div_term)\n",
        "        pe = pe.unsqueeze(0).transpose(0, 1)\n",
        "        self.register_buffer('pe', pe)\n",
        "\n",
        "    def forward(self, x):\n",
        "        return x + self.pe[:x.size(0), :].expand(-1, x.size(1), -1)\n",
        "\n",
        "class FeedForward(nn.Module):\n",
        "    def __init__(self, embedding_dim, feedforward_dim, dropout=0.1):\n",
        "        super(FeedForward, self).__init__()\n",
        "        self.linear1 = nn.Linear(embedding_dim, feedforward_dim)\n",
        "        self.linear2 = nn.Linear(feedforward_dim, embedding_dim)\n",
        "        self.relu = nn.ReLU()\n",
        "        self.dropout = nn.Dropout(dropout)\n",
        "\n",
        "    def forward(self, x):\n",
        "        return self.linear2(self.dropout(self.relu(self.linear1(x))))\n",
        "\n",
        "class QuestionEncoderLayer(nn.Module):\n",
        "    def __init__(self, embedding_dim, num_heads, feedforward_dim, dropout=0.1):\n",
        "        super(QuestionEncoderLayer, self).__init__()\n",
        "        self.self_attn = nn.MultiheadAttention(embedding_dim, num_heads, dropout=dropout)\n",
        "        self.feed_forward = FeedForward(embedding_dim, feedforward_dim, dropout)\n",
        "        self.norm1 = nn.LayerNorm(embedding_dim)\n",
        "        self.norm2 = nn.LayerNorm(embedding_dim)\n",
        "        self.dropout1 = nn.Dropout(dropout)\n",
        "        self.dropout2 = nn.Dropout(dropout)\n",
        "\n",
        "    def forward(self, questions, questions_mask=None, questions_key_padding_mask=None):\n",
        "        attn_output = self.self_attn(questions, questions, questions, attn_mask=questions_mask, key_padding_mask=questions_key_padding_mask)[0]\n",
        "        questions = questions + self.dropout1(attn_output)\n",
        "        questions = self.norm1(questions)\n",
        "        ff_output = self.feed_forward(questions)\n",
        "        questions = questions + self.dropout2(ff_output)\n",
        "        questions = self.norm2(questions)\n",
        "        return questions\n",
        "\n",
        "class AnswerDecoderLayer(nn.Module):\n",
        "    def __init__(self, embedding_dim, num_heads, feedforward_dim, dropout=0.1):\n",
        "        super(AnswerDecoderLayer, self).__init__()\n",
        "        self.self_attn = nn.MultiheadAttention(embedding_dim, num_heads, dropout=dropout)\n",
        "        self.cross_attention = nn.MultiheadAttention(embedding_dim, num_heads, dropout=dropout)\n",
        "        self.feed_forward = FeedForward(embedding_dim, feedforward_dim, dropout)\n",
        "        self.norm1 = nn.LayerNorm(embedding_dim)\n",
        "        self.norm2 = nn.LayerNorm(embedding_dim)\n",
        "        self.norm3 = nn.LayerNorm(embedding_dim)\n",
        "        self.dropout1 = nn.Dropout(dropout)\n",
        "        self.dropout2 = nn.Dropout(dropout)\n",
        "        self.dropout3 = nn.Dropout(dropout)\n",
        "\n",
        "    def forward(self, answers, encoder_output, answers_mask=None, encoder_output_mask=None, answers_key_padding_mask=None, encoder_output_key_padding_mask=None):\n",
        "        self_attn_output = self.self_attn(answers, answers, answers, attn_mask=answers_mask, key_padding_mask=answers_key_padding_mask)[0]\n",
        "        answers = answers + self.dropout1(self_attn_output)\n",
        "        answers = self.norm1(answers)\n",
        "        # Q from here, K and V from encoder outputs\n",
        "        cross_attention_output = self.cross_attention(answers, encoder_output, encoder_output, attn_mask=encoder_output_mask, key_padding_mask=encoder_output_key_padding_mask)[0]\n",
        "        answers = answers + self.dropout2(cross_attention_output)\n",
        "        answers = self.norm2(answers)\n",
        "        ff_output = self.feed_forward(answers)\n",
        "        answers = answers + self.dropout3(ff_output)\n",
        "        answers = self.norm3(answers)\n",
        "        return answers\n",
        "\n",
        "class QuestionEncoder(nn.Module):\n",
        "    def __init__(self, encoder_layer, num_layers):\n",
        "        super(QuestionEncoder, self).__init__()\n",
        "        self.layers = nn.ModuleList([encoder_layer for _ in range(num_layers)])\n",
        "\n",
        "    def forward(self, questions, mask=None, questions_key_padding_mask=None):\n",
        "        output = questions\n",
        "        for layer in self.layers:\n",
        "            output = layer(output, questions_mask=mask, questions_key_padding_mask=questions_key_padding_mask)\n",
        "        return output\n",
        "\n",
        "class AnswerDecoder(nn.Module):\n",
        "    def __init__(self, decoder_layer, num_layers):\n",
        "        super(AnswerDecoder, self).__init__()\n",
        "        self.layers = nn.ModuleList([decoder_layer for _ in range(num_layers)])\n",
        "\n",
        "    def forward(self, answers, encoder_output, answers_mask=None, encoder_output_mask=None, answers_key_padding_mask=None, encoder_output_key_padding_mask=None):\n",
        "        output = answers\n",
        "        for layer in self.layers:\n",
        "            output = layer(output, encoder_output, answers_mask=answers_mask, encoder_output_mask=encoder_output_mask,\n",
        "                           answers_key_padding_mask=answers_key_padding_mask,\n",
        "                           encoder_output_key_padding_mask=encoder_output_key_padding_mask)\n",
        "        return output\n",
        "\n",
        "class QATransformer(nn.Module):\n",
        "    def __init__(self, vocab_size, embedding_dim, num_heads, num_layers, feedforward_dim, max_seq_length, dropout=0.1):\n",
        "        super(QATransformer, self).__init__()\n",
        "        self.embedding = nn.Embedding(vocab_size, embedding_dim)\n",
        "        self.pos_encoder = PositionalEncoding(embedding_dim, max_seq_length)\n",
        "\n",
        "        encoder_layer = QuestionEncoderLayer(embedding_dim, num_heads, feedforward_dim, dropout)\n",
        "        self.encoder = QuestionEncoder(encoder_layer, num_layers)\n",
        "\n",
        "        decoder_layer = AnswerDecoderLayer(embedding_dim, num_heads, feedforward_dim, dropout)\n",
        "        self.decoder = AnswerDecoder(decoder_layer, num_layers)\n",
        "\n",
        "        self.output_layer = nn.Linear(embedding_dim, vocab_size)\n",
        "\n",
        "        self.embedding_dim = embedding_dim\n",
        "        self.num_heads = num_heads\n",
        "\n",
        "    def generate_square_subsequent_mask(self, sz):\n",
        "        mask = (torch.triu(torch.ones(sz, sz)) == 1).transpose(0, 1)\n",
        "        mask = mask.float().masked_fill(mask == 0, float('-inf')).masked_fill(mask == 1, float(0.0))\n",
        "        return mask\n",
        "\n",
        "    def forward(self, questions, answers, questions_key_padding_mask=None, answers_key_padding_mask=None):\n",
        "        questions = self.embedding(questions).permute(1, 0, 2) * math.sqrt(self.embedding_dim)\n",
        "        questions = self.pos_encoder(questions)\n",
        "\n",
        "        answers = self.embedding(answers).permute(1, 0, 2) * math.sqrt(self.embedding_dim)\n",
        "        answers = self.pos_encoder(answers)\n",
        "\n",
        "        answers_mask = self.generate_square_subsequent_mask(answers.size(0)).to(answers.device)\n",
        "\n",
        "        encoder_output = self.encoder(questions, questions_key_padding_mask=questions_key_padding_mask)\n",
        "        output = self.decoder(answers, encoder_output, answers_mask=answers_mask, answers_key_padding_mask=answers_key_padding_mask,\n",
        "                      encoder_output_key_padding_mask=questions_key_padding_mask)\n",
        "\n",
        "        output = output.permute(1, 0, 2)\n",
        "        return self.output_layer(output)\n",
        "\n",
        "    def answer_question(self, questions, max_len=50, device='cuda'):\n",
        "        self.eval()\n",
        "        with torch.no_grad():\n",
        "            questions = questions.unsqueeze(0).to(device)\n",
        "            questions_mask = (questions == 0).to(device)\n",
        "\n",
        "            questions_embedded = self.embedding(questions).permute(1, 0, 2) * math.sqrt(self.embedding_dim)\n",
        "            questions_embedded = self.pos_encoder(questions_embedded)\n",
        "\n",
        "            encoder_output = self.encoder(questions_embedded, questions_key_padding_mask=questions_mask)\n",
        "\n",
        "            ys = torch.ones(1, 1).fill_(spm.bos_id()).type(torch.long).to(device)\n",
        "            for i in range(max_len-1):\n",
        "                answers_mask = self.generate_square_subsequent_mask(ys.size(1)).to(device)\n",
        "                answers_embedded = self.embedding(ys).permute(1, 0, 2) * math.sqrt(self.embedding_dim)\n",
        "                answers_embedded = self.pos_encoder(answers_embedded)\n",
        "\n",
        "                out = self.decoder(answers_embedded, encoder_output,\n",
        "                                   answers_mask=answers_mask,\n",
        "                                   encoder_output_key_padding_mask=questions_mask)\n",
        "\n",
        "                out = out.transpose(0, 1)\n",
        "\n",
        "                prob = self.output_layer(out[:, -1])\n",
        "                _, next_word = torch.max(prob, dim=1)\n",
        "                next_word = next_word.item()\n",
        "\n",
        "                ys = torch.cat([ys, torch.ones(1, 1).type_as(questions.data).fill_(next_word)], dim=1)\n",
        "                if next_word == spm.eos_id():\n",
        "                    break\n",
        "\n",
        "            return ys"
      ],
      "metadata": {
        "id": "wql1hclkrZX0"
      },
      "execution_count": 196,
      "outputs": []
    },
    {
      "cell_type": "code",
      "source": [
        "vocab_size = len(vocab)\n",
        "embedding_dim = 512\n",
        "num_heads = 1\n",
        "feedforward_dim = 2048\n",
        "num_layers = 6\n",
        "dropout = 0.1\n",
        "max_seq_length = 50\n",
        "device = torch.device(\"cuda\" if torch.cuda.is_available() else \"cpu\")\n",
        "question_answering_transformer = QATransformer(vocab_size, embedding_dim, num_heads, num_layers, feedforward_dim, max_seq_length, dropout).to(device)"
      ],
      "metadata": {
        "id": "CRy1oUgAYwAv"
      },
      "execution_count": 197,
      "outputs": []
    },
    {
      "cell_type": "markdown",
      "source": [
        "### Sanity check"
      ],
      "metadata": {
        "id": "1_7iGb5LauJb"
      }
    },
    {
      "cell_type": "code",
      "source": [
        "question = \"What are you doing?\"\n",
        "question_answering_transformer.eval()\n",
        "with torch.no_grad():\n",
        "    encoded_question = spm.encode(question)\n",
        "    src = torch.LongTensor(encoded_question).to(device)\n",
        "\n",
        "    print(f\"\\nQuestion: {question}\")\n",
        "    output = question_answering_transformer.answer_question(src)\n",
        "\n",
        "    answer = spm.decode(output[0].tolist())\n",
        "    print(f\"Answer: {answer}\\n\")\n",
        "# print(spm.pad_id())"
      ],
      "metadata": {
        "colab": {
          "base_uri": "https://localhost:8080/"
        },
        "id": "ZB0xjFGnWKt6",
        "outputId": "8f8d91bd-1e6c-4ac3-c4fc-593f2bd59f43"
      },
      "execution_count": 198,
      "outputs": [
        {
          "output_type": "stream",
          "name": "stdout",
          "text": [
            "\n",
            "Question: What are you doing?\n",
            "Answer: digital woman woman woman woman woman woman woman Bet Bet Bet Bet Bet Bet Bet Bet Bet Bet awesomeibeibeibeibeibeibeibeibeibeibeibeibeibeibeibeibeibeibeibeibeibeibeibeibeibeibeibeibeibeibe\n",
            "\n"
          ]
        }
      ]
    },
    {
      "cell_type": "code",
      "source": [
        "batch = next(iter(train_dataloader))\n",
        "questions, answers = batch\n",
        "questions, answers = questions.to(device), answers.to(device)\n",
        "src_masks = (questions == 0)\n",
        "tgt_masks = (answers[:, :-1] == 0)\n",
        "print(questions.shape, src_masks.shape, answers.shape, tgt_masks.shape)"
      ],
      "metadata": {
        "id": "2LtR2HzYawls",
        "colab": {
          "base_uri": "https://localhost:8080/"
        },
        "outputId": "046788a1-501c-4116-d47c-6911d3e5e8d0"
      },
      "execution_count": 199,
      "outputs": [
        {
          "output_type": "stream",
          "name": "stdout",
          "text": [
            "torch.Size([128, 26]) torch.Size([128, 26]) torch.Size([128, 46]) torch.Size([128, 45])\n"
          ]
        }
      ]
    },
    {
      "cell_type": "code",
      "source": [
        "print(questions[0])\n",
        "print(src_masks[0])\n",
        "print(answers[0])\n",
        "print(tgt_masks[0])"
      ],
      "metadata": {
        "colab": {
          "base_uri": "https://localhost:8080/"
        },
        "id": "P_WAsqjxqJHZ",
        "outputId": "1d642311-cc08-4225-f782-7faaa685622f"
      },
      "execution_count": 200,
      "outputs": [
        {
          "output_type": "stream",
          "name": "stdout",
          "text": [
            "tensor([  2, 270,   7, 259,   9,  16,  12,   3,   0,   0,   0,   0,   0,   0,\n",
            "          0,   0,   0,   0,   0,   0,   0,   0,   0,   0,   0,   0],\n",
            "       device='cuda:0')\n",
            "tensor([False, False, False, False, False, False, False, False,  True,  True,\n",
            "         True,  True,  True,  True,  True,  True,  True,  True,  True,  True,\n",
            "         True,  True,  True,  True,  True,  True], device='cuda:0')\n",
            "tensor([  2,   5,   6,  11, 233,   5,   6,  11,  24, 216, 213, 226, 153,   4,\n",
            "          3,   0,   0,   0,   0,   0,   0,   0,   0,   0,   0,   0,   0,   0,\n",
            "          0,   0,   0,   0,   0,   0,   0,   0,   0,   0,   0,   0,   0,   0,\n",
            "          0,   0,   0,   0], device='cuda:0')\n",
            "tensor([False, False, False, False, False, False, False, False, False, False,\n",
            "        False, False, False, False, False,  True,  True,  True,  True,  True,\n",
            "         True,  True,  True,  True,  True,  True,  True,  True,  True,  True,\n",
            "         True,  True,  True,  True,  True,  True,  True,  True,  True,  True,\n",
            "         True,  True,  True,  True,  True], device='cuda:0')\n"
          ]
        }
      ]
    },
    {
      "cell_type": "code",
      "source": [
        "## sanity check\n",
        "output = question_answering_transformer(questions, answers)\n",
        "print(output.shape)"
      ],
      "metadata": {
        "colab": {
          "base_uri": "https://localhost:8080/"
        },
        "id": "mu8nebusabxB",
        "outputId": "4b93c2ce-423e-47b9-9584-faf55d0b6e42"
      },
      "execution_count": 201,
      "outputs": [
        {
          "output_type": "stream",
          "name": "stdout",
          "text": [
            "torch.Size([128, 46, 1000])\n"
          ]
        }
      ]
    },
    {
      "cell_type": "markdown",
      "source": [
        "### Training loop"
      ],
      "metadata": {
        "id": "EqI_lvq9gVML"
      }
    },
    {
      "cell_type": "code",
      "source": [
        "learning_rate = 1e-4\n",
        "num_epochs = 15\n",
        "optimizer = torch.optim.Adam(question_answering_transformer.parameters(), lr=learning_rate)\n",
        "criterion = nn.CrossEntropyLoss(ignore_index=spm.pad_id())\n",
        "# lr_scheduler = torch.optim.lr_scheduler.CosineAnnealingLR(optimizer, T_max=100, eta_min=1e-9)"
      ],
      "metadata": {
        "id": "n2xwb9YCg881"
      },
      "execution_count": 202,
      "outputs": []
    },
    {
      "cell_type": "code",
      "source": [
        "train_losses = []\n",
        "val_losses = []\n",
        "\n",
        "\n",
        "for epoch in range(num_epochs):\n",
        "\n",
        "    question_answering_transformer.train()\n",
        "    total_loss = 0\n",
        "    for batch in train_dataloader:\n",
        "        questions, answers = batch\n",
        "        questions, answers = questions.to(device), answers.to(device)\n",
        "\n",
        "        questions_key_padding_mask = (questions == 0)\n",
        "        answers_key_padding_mask = (answers[:, :-1] == 0)\n",
        "\n",
        "        answers_mask = question_answering_transformer.generate_square_subsequent_mask(answers.size(1) - 1).to(device)\n",
        "        answers_mask = answers_mask.masked_fill(answers_mask == float('-inf'), 0.0).masked_fill(answers_mask == 0, float('-inf'))\n",
        "\n",
        "\n",
        "        optimizer.zero_grad()\n",
        "\n",
        "        output = question_answering_transformer(questions, answers[:, :-1],\n",
        "                       questions_key_padding_mask=questions_key_padding_mask,\n",
        "                       answers_key_padding_mask=answers_key_padding_mask)\n",
        "\n",
        "        loss = criterion(output.contiguous().view(-1, question_answering_transformer.embedding.num_embeddings), answers[:, 1:].contiguous().view(-1))\n",
        "\n",
        "        loss.backward()\n",
        "        optimizer.step()\n",
        "\n",
        "        total_loss += loss.item()\n",
        "\n",
        "    epoch_loss = total_loss / len(train_dataloader)\n",
        "\n",
        "    question_answering_transformer.eval()\n",
        "    total_loss = 0\n",
        "    with torch.no_grad():\n",
        "        for batch in val_dataloader:\n",
        "            questions, answers = batch\n",
        "            questions, answers = questions.to(device), answers.to(device)\n",
        "\n",
        "            questions_key_padding_mask = (questions == 0)\n",
        "            answers_key_padding_mask = (answers[:, :-1] == 0)\n",
        "\n",
        "            answers_mask = question_answering_transformer.generate_square_subsequent_mask(answers.size(1) - 1).to(device)\n",
        "            answers_mask = answers_mask.masked_fill(answers_mask == float('-inf'), 0.0).masked_fill(answers_mask == 0, float('-inf'))\n",
        "\n",
        "            output = question_answering_transformer(questions, answers[:, :-1],\n",
        "                       questions_key_padding_mask=questions_key_padding_mask,\n",
        "                       answers_key_padding_mask=answers_key_padding_mask\n",
        "                           )\n",
        "\n",
        "            loss = criterion(output.contiguous().view(-1, question_answering_transformer.embedding.num_embeddings), answers[:, 1:].contiguous().view(-1))\n",
        "\n",
        "            total_loss += loss.item()\n",
        "\n",
        "    val_epoch_loss = total_loss / len(val_dataloader)\n",
        "\n",
        "    train_losses.append(epoch_loss)\n",
        "    val_losses.append(val_epoch_loss)\n",
        "\n",
        "    print(f\"\\nEpoch: {epoch+1}/{num_epochs} Training loss: {epoch_loss:.4f} \\t Validation loss: {val_epoch_loss:.4f}\")\n"
      ],
      "metadata": {
        "colab": {
          "base_uri": "https://localhost:8080/"
        },
        "id": "dBBffq4plZhm",
        "outputId": "5dd1385e-58ab-49df-fda9-1ac286e4d6d3"
      },
      "execution_count": 203,
      "outputs": [
        {
          "output_type": "stream",
          "name": "stderr",
          "text": [
            "/usr/local/lib/python3.10/dist-packages/torch/nn/functional.py:5137: UserWarning: Support for mismatched key_padding_mask and attn_mask is deprecated. Use same type for both instead.\n",
            "  warnings.warn(\n"
          ]
        },
        {
          "output_type": "stream",
          "name": "stdout",
          "text": [
            "\n",
            "Epoch: 1/15 Training loss: 3.6127 \t Validation loss: 1.6504\n",
            "\n",
            "Epoch: 2/15 Training loss: 1.1215 \t Validation loss: 0.7081\n",
            "\n",
            "Epoch: 3/15 Training loss: 0.6135 \t Validation loss: 0.4710\n",
            "\n",
            "Epoch: 4/15 Training loss: 0.4567 \t Validation loss: 0.3739\n",
            "\n",
            "Epoch: 5/15 Training loss: 0.3694 \t Validation loss: 0.3022\n",
            "\n",
            "Epoch: 6/15 Training loss: 0.2981 \t Validation loss: 0.2396\n",
            "\n",
            "Epoch: 7/15 Training loss: 0.2358 \t Validation loss: 0.1933\n",
            "\n",
            "Epoch: 8/15 Training loss: 0.1897 \t Validation loss: 0.1551\n",
            "\n",
            "Epoch: 9/15 Training loss: 0.1500 \t Validation loss: 0.1364\n",
            "\n",
            "Epoch: 10/15 Training loss: 0.1199 \t Validation loss: 0.1123\n",
            "\n",
            "Epoch: 11/15 Training loss: 0.1000 \t Validation loss: 0.1029\n",
            "\n",
            "Epoch: 12/15 Training loss: 0.0796 \t Validation loss: 0.0920\n",
            "\n",
            "Epoch: 13/15 Training loss: 0.0677 \t Validation loss: 0.0843\n",
            "\n",
            "Epoch: 14/15 Training loss: 0.0552 \t Validation loss: 0.0841\n",
            "\n",
            "Epoch: 15/15 Training loss: 0.0479 \t Validation loss: 0.0873\n"
          ]
        }
      ]
    },
    {
      "cell_type": "code",
      "source": [
        "plt.plot(train_losses, label='Training Loss')\n",
        "plt.xlabel('Epoch')\n",
        "plt.ylabel('Loss')\n",
        "plt.legend()\n",
        "plt.show()\n",
        "\n",
        "plt.plot(val_losses, label='validation Loss', color=\"orange\")\n",
        "plt.xlabel('Epoch')\n",
        "plt.ylabel('Loss')\n",
        "plt.legend()\n",
        "plt.show()"
      ],
      "metadata": {
        "colab": {
          "base_uri": "https://localhost:8080/",
          "height": 881
        },
        "id": "lVRR52W5gqbn",
        "outputId": "1d76bd6e-5a00-4209-f462-ef731eea3659"
      },
      "execution_count": 204,
      "outputs": [
        {
          "output_type": "display_data",
          "data": {
            "text/plain": [
              "<Figure size 640x480 with 1 Axes>"
            ],
            "image/png": "[encoded data removed]"
          },
          "metadata": {}
        },
        {
          "output_type": "display_data",
          "data": {
            "text/plain": [
              "<Figure size 640x480 with 1 Axes>"
            ],
            "image/png": "[encoded data removed]"
          },
          "metadata": {}
        }
      ]
    },
    {
      "cell_type": "markdown",
      "source": [
        "## 5-Model Evaluation (BLEU score)\n",
        "Evaluate your models on test data and calculate the [bleu score](https://machinelearningmastery.com/calculate-bleu-score-for-text-python/).\n"
      ],
      "metadata": {
        "id": "Q2rTwTvZReQv"
      }
    },
    {
      "cell_type": "code",
      "source": [
        "question_answering_transformer.eval()\n",
        "all_references = []\n",
        "all_hypotheses = []\n",
        "\n",
        "with torch.no_grad():\n",
        "    for questions, answers in tqdm(test_dataloader):\n",
        "        questions = questions.to(device)\n",
        "        answers = answers.to(device)\n",
        "\n",
        "        outputs = [question_answering_transformer.answer_question(question) for question in questions]\n",
        "        for i in range(len(questions)):\n",
        "            reference = spm.decode(answers[i].tolist()).split()\n",
        "            hypothesis = spm.decode(outputs[i][0].tolist()).split()\n",
        "\n",
        "            all_references.append([reference])\n",
        "            all_hypotheses.append(hypothesis)\n",
        "\n",
        "bleu_score = corpus_bleu(all_references, all_hypotheses)\n",
        "\n",
        "print(f\"\\n {'==' * 10} BLEU Score: {bleu_score:.4f} {'==' * 10}\")"
      ],
      "metadata": {
        "id": "Zrn6yP_sRe7A",
        "colab": {
          "base_uri": "https://localhost:8080/"
        },
        "outputId": "57a85691-9adc-424c-c5e5-84ba861995b0"
      },
      "execution_count": 210,
      "outputs": [
        {
          "output_type": "stream",
          "name": "stderr",
          "text": [
            "100%|██████████| 16/16 [02:47<00:00, 10.44s/it]"
          ]
        },
        {
          "output_type": "stream",
          "name": "stdout",
          "text": [
            "\n",
            " ==================== BLEU Score: 0.7666 ====================\n"
          ]
        },
        {
          "output_type": "stream",
          "name": "stderr",
          "text": [
            "\n"
          ]
        }
      ]
    },
    {
      "cell_type": "markdown",
      "source": [
        "## 6-Examples from test data\n",
        "Show some example questions, true answers and generated answers from the test data."
      ],
      "metadata": {
        "id": "cH-Alko-Rf1I"
      }
    },
    {
      "cell_type": "code",
      "source": [
        "count = 0\n",
        "correct_count = 0\n",
        "with torch.no_grad():\n",
        "    for questions, answers in test_dataloader:\n",
        "        if count >= 5:\n",
        "            break\n",
        "        count += 1\n",
        "\n",
        "        questions = questions.to(device)\n",
        "        answers = answers.to(device)\n",
        "\n",
        "        output = question_answering_transformer.answer_question(questions[0])\n",
        "\n",
        "        question = spm.decode(questions[0].tolist())\n",
        "        true_answer = spm.decode(answers[0].tolist())\n",
        "        generated_answer = spm.decode(output[0].tolist())\n",
        "\n",
        "        is_correct = true_answer == generated_answer\n",
        "        if is_correct:\n",
        "            correct_count += 1\n",
        "\n",
        "        print(f\"\"\"\n",
        "        Question {count}:\n",
        "        {question}\n",
        "        Actual Answer: {true_answer}\n",
        "        Generated Answer: {generated_answer}\n",
        "        \"\"\")\n",
        "\n",
        "print(f\"\\nNumber of correct examples: {correct_count}/{5}\")\n"
      ],
      "metadata": {
        "id": "URElFhXdRkdi",
        "colab": {
          "base_uri": "https://localhost:8080/"
        },
        "outputId": "d055dc11-310b-4408-833a-020c8581e1a1"
      },
      "execution_count": 206,
      "outputs": [
        {
          "output_type": "stream",
          "name": "stdout",
          "text": [
            "\n",
            "        Question 1:\n",
            "        Do you know other chatbots?\n",
            "        Actual Answer: I've heard of other bots, but I haven't met any.\n",
            "        Generated Answer: I've heard of other bots, but I haven't met any.\n",
            "        \n",
            "\n",
            "        Question 2:\n",
            "        I am currently travelling\n",
            "        Actual Answer: Ok.\n",
            "        Generated Answer: Okay.\n",
            "        \n",
            "\n",
            "        Question 3:\n",
            "        Your answers are stupid\n",
            "        Actual Answer: Sorry about that.\n",
            "        Generated Answer: Sorry about that.\n",
            "        \n",
            "\n",
            "        Question 4:\n",
            "        I want you to fall in love with me\n",
            "        Actual Answer: Love isn't really in my skill set.\n",
            "        Generated Answer: Love isn't really in my skill set.\n",
            "        \n",
            "\n",
            "        Question 5:\n",
            "        Cortana is better\n",
            "        Actual Answer: I try, but I don't always get it right.\n",
            "        Generated Answer: I try, but I don't always get it right.\n",
            "        \n",
            "\n",
            "Number of correct examples: 4/5\n"
          ]
        }
      ]
    },
    {
      "cell_type": "markdown",
      "source": [
        "## 7-Random Examples\n",
        "Ask it some questions of your own and show how how it answers."
      ],
      "metadata": {
        "id": "nsHUbERURlHU"
      }
    },
    {
      "cell_type": "code",
      "source": [
        "print(\"Enter questions, q => exit: \")\n",
        "while True:\n",
        "    question = input(\"Your question: \")\n",
        "    if question== 'q':\n",
        "        break\n",
        "    question_answering_transformer.eval()\n",
        "    with torch.no_grad():\n",
        "        encoded_question = spm.encode(question)\n",
        "        src = torch.LongTensor(encoded_question).to(device)\n",
        "\n",
        "        # print(f\"\\nQuestion: {question}\")\n",
        "        output = question_answering_transformer.answer_question(src)\n",
        "\n",
        "        answer = spm.decode(output[0].tolist())\n",
        "        print(f\"Answer: {answer}\\n\")"
      ],
      "metadata": {
        "id": "MBvVR8oBRlh8",
        "colab": {
          "base_uri": "https://localhost:8080/"
        },
        "outputId": "355a1e00-3a39-4cc4-d1cf-e073fc94bcc7"
      },
      "execution_count": 211,
      "outputs": [
        {
          "name": "stdout",
          "output_type": "stream",
          "text": [
            "Enter questions, q => exit: \n",
            "Your question: How are your parents\n",
            "Answer: Great, thanks.\n",
            "\n",
            "Your question: can you jump\n",
            "Answer: Very well.\n",
            "\n",
            "Your question: q\n"
          ]
        }
      ]
    },
    {
      "cell_type": "code",
      "source": [],
      "metadata": {
        "id": "pN94D_dO2ZK2"
      },
      "execution_count": 207,
      "outputs": []
    }
  ]
}